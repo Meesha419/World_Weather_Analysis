{
 "cells": [
  {
   "cell_type": "markdown",
   "metadata": {},
   "source": [
    "# WeatherPy\n",
    "----\n",
    "\n",
    "#### Note\n",
    "* Instructions have been included for each segment. You do not have to follow them exactly, but they are included to help you think through the steps."
   ]
  },
  {
   "cell_type": "code",
   "execution_count": 1,
   "metadata": {
    "scrolled": true
   },
   "outputs": [],
   "source": [
    "# Dependencies and Setup\n",
    "import matplotlib.pyplot as plt\n",
    "import pandas as pd\n",
    "import numpy as np\n",
    "import requests\n",
    "import time\n",
    "import json\n",
    "from scipy.stats import linregress\n",
    "\n",
    "# Import API key\n",
    "from api_keys import weather_api_key\n",
    "\n",
    "# Incorporated citipy to determine city based on latitude and longitude\n",
    "from citipy import citipy\n",
    "\n",
    "# Output File (CSV)\n",
    "output_data_file = \"output_data/cities.csv\"\n",
    "\n",
    "# Range of latitudes and longitudes\n",
    "lat_range = (-90, 90)\n",
    "lng_range = (-180, 180)"
   ]
  },
  {
   "cell_type": "markdown",
   "metadata": {},
   "source": [
    "## Generate Cities List"
   ]
  },
  {
   "cell_type": "code",
   "execution_count": 2,
   "metadata": {},
   "outputs": [
    {
     "data": {
      "text/plain": [
       "586"
      ]
     },
     "execution_count": 2,
     "metadata": {},
     "output_type": "execute_result"
    }
   ],
   "source": [
    "# List for holding lat_lngs and cities\n",
    "lat_lngs = []\n",
    "cities = []\n",
    "\n",
    "# Create a set of random lat and lng combinations\n",
    "lats = np.random.uniform(lat_range[0], lat_range[1], size=1500)\n",
    "lngs = np.random.uniform(lng_range[0], lng_range[1], size=1500)\n",
    "lat_lngs = zip(lats, lngs)\n",
    "\n",
    "# Identify nearest city for each lat, lng combination\n",
    "for lat_lng in lat_lngs:\n",
    "    city = citipy.nearest_city(lat_lng[0], lat_lng[1]).city_name\n",
    "    \n",
    "    # If the city is unique, then add it to a our cities list\n",
    "    if city not in cities:\n",
    "        cities.append(city)\n",
    "\n",
    "# Print the city count to confirm sufficient count\n",
    "len(cities)"
   ]
  },
  {
   "cell_type": "code",
   "execution_count": 3,
   "metadata": {},
   "outputs": [
    {
     "data": {
      "text/plain": [
       "'http://api.openweathermap.org/data/2.5/forecast?id=524901&APPID=4541ece86e97a697c1b7e203ca11f952'"
      ]
     },
     "execution_count": 3,
     "metadata": {},
     "output_type": "execute_result"
    }
   ],
   "source": [
    "url = \"http://api.openweathermap.org/data/2.5/forecast?id=524901&APPID=\"\n",
    "\n",
    "Units = \"imperial\"\n",
    "\n",
    "target_url = url + weather_api_key\n",
    "target_url"
   ]
  },
  {
   "cell_type": "markdown",
   "metadata": {},
   "source": [
    "### Perform API Calls\n",
    "* Perform a weather check on each city using a series of successive API calls.\n",
    "* Include a print log of each city as it's being processed (with the city number and city name).\n"
   ]
  },
  {
   "cell_type": "code",
   "execution_count": 5,
   "metadata": {},
   "outputs": [
    {
     "name": "stdout",
     "output_type": "stream",
     "text": [
      "Processing record 1 of Set 1 | nanortalik\n",
      "Processing record 2 of Set 1 | leningradskiy\n",
      "Processing record 3 of Set 1 | saldanha\n",
      "Processing record 4 of Set 1 | broken hill\n",
      "Processing record 5 of Set 1 | labuhan\n",
      "Processing record 6 of Set 1 | sola\n",
      "Processing record 7 of Set 1 | isangel\n",
      "Processing record 8 of Set 1 | mataura\n",
      "Processing record 9 of Set 1 | half moon bay\n",
      "Processing record 10 of Set 1 | ribeira grande\n",
      "Processing record 11 of Set 1 | gao\n",
      "Processing record 12 of Set 1 | vaini\n",
      "Processing record 13 of Set 1 | yellowknife\n",
      "Record not found\n",
      "Processing record 14 of Set 1 | zhurivka\n",
      "Processing record 15 of Set 1 | hobart\n",
      "Processing record 16 of Set 1 | paamiut\n",
      "Processing record 17 of Set 1 | saskylakh\n",
      "Processing record 18 of Set 1 | bathsheba\n",
      "Processing record 19 of Set 1 | eyl\n",
      "Processing record 20 of Set 1 | iracoubo\n",
      "Processing record 21 of Set 1 | lac du bonnet\n",
      "Processing record 22 of Set 1 | rikitea\n",
      "Processing record 23 of Set 1 | thompson\n",
      "Processing record 24 of Set 1 | qaanaaq\n",
      "Processing record 25 of Set 1 | esperance\n",
      "Processing record 26 of Set 1 | chuy\n",
      "Processing record 27 of Set 1 | ushuaia\n",
      "Processing record 28 of Set 1 | mar del plata\n",
      "Record not found\n",
      "Processing record 29 of Set 1 | salalah\n",
      "Processing record 30 of Set 1 | xuchang\n",
      "Processing record 31 of Set 1 | rundu\n",
      "Processing record 32 of Set 1 | aklavik\n",
      "Processing record 33 of Set 1 | kruisfontein\n",
      "Processing record 34 of Set 1 | port alfred\n",
      "Processing record 35 of Set 1 | kysyl-syr\n",
      "Processing record 36 of Set 1 | nagato\n",
      "Processing record 37 of Set 1 | cleveland\n",
      "Processing record 38 of Set 1 | richards bay\n",
      "Processing record 39 of Set 1 | kidal\n",
      "Processing record 40 of Set 1 | albany\n",
      "Processing record 41 of Set 1 | bluff\n",
      "Processing record 42 of Set 1 | new norfolk\n",
      "Processing record 43 of Set 1 | fort saint james\n",
      "Processing record 44 of Set 1 | avarua\n",
      "Processing record 45 of Set 1 | san patricio\n",
      "Record not found\n",
      "Record not found\n",
      "Processing record 46 of Set 1 | butaritari\n",
      "Processing record 47 of Set 1 | atuona\n",
      "Processing record 48 of Set 1 | kirakira\n",
      "Processing record 49 of Set 1 | tuktoyaktuk\n",
      "Processing record 50 of Set 1 | hermanus\n",
      "Processing record 51 of Set 1 | clyde river\n",
      "Processing record 52 of Set 1 | yerbogachen\n",
      "Processing record 53 of Set 1 | puerto ayora\n",
      "Processing record 54 of Set 1 | imbituba\n",
      "Processing record 55 of Set 1 | andenes\n",
      "Processing record 56 of Set 1 | kodiak\n",
      "Processing record 57 of Set 1 | morehead\n",
      "Processing record 58 of Set 1 | ouadda\n",
      "Processing record 59 of Set 1 | busselton\n",
      "Processing record 60 of Set 1 | tasiilaq\n",
      "Processing record 61 of Set 1 | gerede\n",
      "Processing record 62 of Set 1 | ixtapa\n",
      "Processing record 63 of Set 1 | san joaquin\n",
      "Processing record 64 of Set 1 | maraa\n",
      "Processing record 65 of Set 1 | cabo san lucas\n",
      "Processing record 66 of Set 1 | mingguang\n",
      "Processing record 67 of Set 1 | tiksi\n",
      "Processing record 68 of Set 1 | neuquen\n",
      "Processing record 69 of Set 1 | guaranesia\n",
      "Processing record 70 of Set 1 | chokurdakh\n",
      "Processing record 71 of Set 1 | cape town\n",
      "Processing record 72 of Set 1 | castro\n",
      "Processing record 73 of Set 1 | lompoc\n",
      "Processing record 74 of Set 1 | khatanga\n",
      "Processing record 75 of Set 1 | bredasdorp\n",
      "Processing record 76 of Set 1 | moron\n",
      "Processing record 77 of Set 1 | dikson\n",
      "Processing record 78 of Set 1 | adre\n",
      "Processing record 79 of Set 1 | kapaa\n",
      "Record not found\n",
      "Processing record 80 of Set 1 | chicama\n",
      "Processing record 81 of Set 1 | lieksa\n",
      "Processing record 82 of Set 1 | karratha\n",
      "Processing record 83 of Set 1 | uinskoye\n",
      "Processing record 84 of Set 1 | hilo\n",
      "Processing record 85 of Set 1 | gumdag\n",
      "Processing record 86 of Set 1 | la ronge\n",
      "Processing record 87 of Set 1 | belyy yar\n",
      "Record not found\n",
      "Processing record 88 of Set 1 | punta arenas\n",
      "Processing record 89 of Set 1 | mount gambier\n",
      "Record not found\n",
      "Processing record 90 of Set 1 | fortuna\n",
      "Processing record 91 of Set 1 | bengkulu\n",
      "Processing record 92 of Set 1 | chara\n",
      "Record not found\n",
      "Processing record 93 of Set 1 | anyksciai\n",
      "Processing record 94 of Set 1 | kahului\n",
      "Processing record 95 of Set 1 | nueva loja\n",
      "Processing record 96 of Set 1 | provideniya\n",
      "Processing record 97 of Set 1 | norman wells\n",
      "Processing record 98 of Set 1 | iquique\n",
      "Processing record 99 of Set 1 | port elizabeth\n",
      "Processing record 100 of Set 1 | itarema\n",
      "Processing record 101 of Set 1 | pundaguitan\n",
      "Processing record 102 of Set 1 | tuatapere\n",
      "Processing record 103 of Set 1 | ayolas\n",
      "Processing record 104 of Set 1 | saint-philippe\n",
      "Processing record 105 of Set 1 | veraval\n",
      "Processing record 106 of Set 1 | kulhudhuffushi\n",
      "Processing record 107 of Set 1 | muisne\n",
      "Processing record 108 of Set 1 | kutum\n",
      "Processing record 109 of Set 1 | cayenne\n",
      "Processing record 110 of Set 1 | upernavik\n",
      "Processing record 111 of Set 1 | mahajanga\n",
      "Processing record 112 of Set 1 | waipawa\n",
      "Processing record 113 of Set 1 | zyryanka\n",
      "Processing record 114 of Set 1 | jamestown\n",
      "Processing record 115 of Set 1 | hithadhoo\n",
      "Processing record 116 of Set 1 | husavik\n",
      "Processing record 117 of Set 1 | hofn\n",
      "Processing record 118 of Set 1 | kokkola\n",
      "Processing record 119 of Set 1 | adrar\n",
      "Processing record 120 of Set 1 | east london\n",
      "Record not found\n",
      "Processing record 121 of Set 1 | chapais\n",
      "Processing record 122 of Set 1 | kuandian\n",
      "Processing record 123 of Set 1 | nikolskoye\n",
      "Processing record 124 of Set 1 | bull savanna\n",
      "Processing record 125 of Set 1 | amapa\n",
      "Processing record 126 of Set 1 | batamshinskiy\n",
      "Processing record 127 of Set 1 | kupang\n",
      "Processing record 128 of Set 1 | kholodnyy\n",
      "Processing record 129 of Set 1 | olafsvik\n",
      "Processing record 130 of Set 1 | pierre\n",
      "Processing record 131 of Set 1 | mnogovershinnyy\n",
      "Processing record 132 of Set 1 | coihaique\n",
      "Processing record 133 of Set 1 | bethel\n",
      "Processing record 134 of Set 1 | madaoua\n",
      "Processing record 135 of Set 1 | tsabong\n",
      "Processing record 136 of Set 1 | flinders\n",
      "Processing record 137 of Set 1 | hashtgerd\n",
      "Processing record 138 of Set 1 | victoria\n",
      "Record not found\n",
      "Processing record 139 of Set 1 | esteli\n",
      "Processing record 140 of Set 1 | mount isa\n",
      "Record not found\n",
      "Processing record 141 of Set 1 | chinsali\n",
      "Processing record 142 of Set 1 | nong khae\n",
      "Processing record 143 of Set 1 | hoquiam\n",
      "Processing record 144 of Set 1 | arraial do cabo\n",
      "Record not found\n",
      "Processing record 145 of Set 1 | bireun\n",
      "Record not found\n",
      "Processing record 146 of Set 1 | sarandi\n",
      "Processing record 147 of Set 1 | vanimo\n",
      "Processing record 148 of Set 1 | kaitangata\n",
      "Processing record 149 of Set 1 | praia da vitoria\n",
      "Processing record 150 of Set 1 | grindavik\n",
      "Processing record 151 of Set 1 | cidreira\n",
      "Processing record 152 of Set 1 | oriximina\n",
      "Processing record 153 of Set 1 | alofi\n",
      "Processing record 154 of Set 1 | saint george\n",
      "Processing record 155 of Set 1 | mormugao\n",
      "Processing record 156 of Set 1 | sambava\n",
      "Processing record 157 of Set 1 | luderitz\n",
      "Processing record 158 of Set 1 | xining\n",
      "Processing record 159 of Set 1 | viedma\n",
      "Processing record 160 of Set 1 | vianopolis\n",
      "Processing record 161 of Set 1 | anito\n",
      "Processing record 162 of Set 1 | ambulu\n",
      "Record not found\n",
      "Processing record 163 of Set 1 | aswan\n",
      "Processing record 164 of Set 1 | chardara\n",
      "Processing record 165 of Set 1 | usevya\n",
      "Processing record 166 of Set 1 | kaspiysk\n",
      "Processing record 167 of Set 1 | galle\n",
      "Processing record 168 of Set 1 | cherskiy\n",
      "Processing record 169 of Set 1 | aksu\n",
      "Processing record 170 of Set 1 | hasaki\n",
      "Processing record 171 of Set 1 | ahipara\n",
      "Processing record 172 of Set 1 | yaan\n",
      "Processing record 173 of Set 1 | kamiiso\n",
      "Processing record 174 of Set 1 | qaqortoq\n",
      "Processing record 175 of Set 1 | monte carmelo\n",
      "Processing record 176 of Set 1 | ponta do sol\n",
      "Processing record 177 of Set 1 | georgetown\n",
      "Processing record 178 of Set 1 | sur\n",
      "Processing record 179 of Set 1 | vostok\n",
      "Processing record 180 of Set 1 | faanui\n",
      "Processing record 181 of Set 1 | byron bay\n",
      "Processing record 182 of Set 1 | inirida\n",
      "Processing record 183 of Set 1 | sibolga\n",
      "Processing record 184 of Set 1 | soe\n",
      "Processing record 185 of Set 1 | bambous virieux\n",
      "Processing record 186 of Set 1 | kavaratti\n",
      "Processing record 187 of Set 1 | belaya gora\n",
      "Processing record 188 of Set 1 | leh\n",
      "Processing record 189 of Set 1 | zhanjiang\n",
      "Processing record 190 of Set 1 | taoudenni\n",
      "Processing record 191 of Set 1 | valparaiso\n",
      "Processing record 192 of Set 1 | laguna\n"
     ]
    },
    {
     "name": "stdout",
     "output_type": "stream",
     "text": [
      "Record not found\n",
      "Processing record 193 of Set 1 | codrington\n",
      "Processing record 194 of Set 1 | toora-khem\n",
      "Processing record 195 of Set 1 | namibe\n",
      "Processing record 196 of Set 1 | ponta delgada\n",
      "Processing record 197 of Set 1 | narsaq\n",
      "Processing record 198 of Set 1 | margate\n",
      "Processing record 199 of Set 1 | pisco\n",
      "Processing record 200 of Set 1 | talcahuano\n",
      "Processing record 201 of Set 1 | maceio\n",
      "Processing record 202 of Set 1 | moyo\n",
      "Processing record 203 of Set 1 | deder\n",
      "Processing record 204 of Set 1 | dzhebariki-khaya\n",
      "Processing record 205 of Set 1 | sao joao da barra\n",
      "Processing record 206 of Set 1 | alice springs\n",
      "Processing record 207 of Set 1 | ubinskoye\n",
      "Processing record 208 of Set 1 | tyukhtet\n",
      "Processing record 209 of Set 1 | axim\n",
      "Processing record 210 of Set 1 | rawson\n",
      "Processing record 211 of Set 1 | kudahuvadhoo\n",
      "Processing record 212 of Set 1 | meulaboh\n",
      "Processing record 213 of Set 1 | pangnirtung\n",
      "Processing record 214 of Set 1 | shenjiamen\n",
      "Processing record 215 of Set 1 | udachnyy\n",
      "Processing record 216 of Set 1 | tautira\n",
      "Processing record 217 of Set 1 | kourou\n",
      "Processing record 218 of Set 1 | naze\n",
      "Processing record 219 of Set 1 | palmer\n",
      "Processing record 220 of Set 1 | beloha\n",
      "Processing record 221 of Set 1 | portalegre\n",
      "Processing record 222 of Set 1 | zharkent\n",
      "Processing record 223 of Set 1 | hailar\n",
      "Processing record 224 of Set 1 | anuchino\n",
      "Processing record 225 of Set 1 | shubarshi\n",
      "Processing record 226 of Set 1 | lebu\n",
      "Processing record 227 of Set 1 | charters towers\n",
      "Processing record 228 of Set 1 | acapulco\n",
      "Processing record 229 of Set 1 | waihi beach\n",
      "Processing record 230 of Set 1 | carnarvon\n",
      "Processing record 231 of Set 1 | anaconda\n",
      "Processing record 232 of Set 1 | brownsville\n",
      "Processing record 233 of Set 1 | mlada vozice\n",
      "Processing record 234 of Set 1 | krasnoselkup\n",
      "Processing record 235 of Set 1 | marawi\n",
      "Processing record 236 of Set 1 | mahebourg\n",
      "Processing record 237 of Set 1 | namatanai\n",
      "Processing record 238 of Set 1 | geraldton\n",
      "Processing record 239 of Set 1 | mahanoro\n",
      "Processing record 240 of Set 1 | mana\n",
      "Processing record 241 of Set 1 | severo-kurilsk\n",
      "Processing record 242 of Set 1 | caravelas\n",
      "Processing record 243 of Set 1 | ostrovnoy\n",
      "Processing record 244 of Set 1 | yamasaki\n",
      "Processing record 245 of Set 1 | le mars\n",
      "Processing record 246 of Set 1 | beaverlodge\n",
      "Record not found\n",
      "Record not found\n",
      "Processing record 247 of Set 1 | kokopo\n",
      "Record not found\n",
      "Processing record 248 of Set 1 | padang\n",
      "Processing record 249 of Set 1 | saucillo\n",
      "Processing record 250 of Set 1 | durant\n",
      "Processing record 251 of Set 1 | kinwat\n",
      "Processing record 252 of Set 1 | batemans bay\n",
      "Record not found\n",
      "Processing record 253 of Set 1 | north platte\n",
      "Processing record 254 of Set 1 | camacha\n",
      "Processing record 255 of Set 1 | riyadh\n",
      "Processing record 256 of Set 1 | lamu\n",
      "Processing record 257 of Set 1 | marsh harbour\n",
      "Processing record 258 of Set 1 | iqaluit\n",
      "Processing record 259 of Set 1 | hanchuan\n",
      "Processing record 260 of Set 1 | constitucion\n",
      "Processing record 261 of Set 1 | rovaniemi\n",
      "Processing record 262 of Set 1 | sao filipe\n",
      "Processing record 263 of Set 1 | santa fe\n",
      "Processing record 264 of Set 1 | pareora\n",
      "Processing record 265 of Set 1 | fergus falls\n",
      "Processing record 266 of Set 1 | alyangula\n",
      "Processing record 267 of Set 1 | dunedin\n",
      "Processing record 268 of Set 1 | talnakh\n",
      "Processing record 269 of Set 1 | denpasar\n",
      "Processing record 270 of Set 1 | edson\n",
      "Processing record 271 of Set 1 | amazar\n",
      "Processing record 272 of Set 1 | alta floresta\n",
      "Processing record 273 of Set 1 | vila velha\n",
      "Processing record 274 of Set 1 | flin flon\n",
      "Processing record 275 of Set 1 | sao raimundo nonato\n",
      "Processing record 276 of Set 1 | jiazi\n",
      "Processing record 277 of Set 1 | sitka\n",
      "Record not found\n",
      "Processing record 278 of Set 1 | havelock\n",
      "Record not found\n",
      "Processing record 279 of Set 1 | trincomalee\n",
      "Processing record 280 of Set 1 | renfrew\n",
      "Processing record 281 of Set 1 | san cristobal\n",
      "Record not found\n",
      "Processing record 282 of Set 1 | farkhor\n",
      "Processing record 283 of Set 1 | barra do pirai\n",
      "Processing record 284 of Set 1 | phangnga\n",
      "Record not found\n",
      "Processing record 285 of Set 1 | tessalit\n",
      "Processing record 286 of Set 1 | quatre cocos\n",
      "Processing record 287 of Set 1 | businga\n",
      "Processing record 288 of Set 1 | san francisco\n",
      "Processing record 289 of Set 1 | airai\n",
      "Processing record 290 of Set 1 | matara\n",
      "Processing record 291 of Set 1 | nador\n",
      "Processing record 292 of Set 1 | melfi\n",
      "Processing record 293 of Set 1 | lagoa\n",
      "Processing record 294 of Set 1 | arawa\n",
      "Processing record 295 of Set 1 | nelson bay\n",
      "Processing record 296 of Set 1 | selma\n",
      "Processing record 297 of Set 1 | eureka\n",
      "Processing record 298 of Set 1 | krosno odrzanskie\n",
      "Processing record 299 of Set 1 | raga\n",
      "Processing record 300 of Set 1 | bubaque\n",
      "Processing record 301 of Set 1 | katsuura\n",
      "Processing record 302 of Set 1 | noumea\n",
      "Processing record 303 of Set 1 | baykit\n",
      "Processing record 304 of Set 1 | saint anthony\n",
      "Processing record 305 of Set 1 | christchurch\n",
      "Record not found\n",
      "Processing record 306 of Set 1 | longyearbyen\n",
      "Processing record 307 of Set 1 | cedro\n",
      "Processing record 308 of Set 1 | pevek\n",
      "Processing record 309 of Set 1 | guerrero negro\n",
      "Processing record 310 of Set 1 | plettenberg bay\n",
      "Processing record 311 of Set 1 | otjimbingwe\n",
      "Processing record 312 of Set 1 | kavieng\n",
      "Processing record 313 of Set 1 | san juan\n",
      "Processing record 314 of Set 1 | port blair\n",
      "Processing record 315 of Set 1 | rehoboth\n",
      "Processing record 316 of Set 1 | barrow\n",
      "Record not found\n",
      "Processing record 317 of Set 1 | that phanom\n",
      "Processing record 318 of Set 1 | itoman\n",
      "Processing record 319 of Set 1 | sao jose da coroa grande\n",
      "Processing record 320 of Set 1 | havre-saint-pierre\n",
      "Processing record 321 of Set 1 | wawa\n",
      "Processing record 322 of Set 1 | baglung\n",
      "Processing record 323 of Set 1 | yar-sale\n",
      "Processing record 324 of Set 1 | portoferraio\n",
      "Processing record 325 of Set 1 | sembakung\n",
      "Processing record 326 of Set 1 | sharjah\n",
      "Processing record 327 of Set 1 | sioux lookout\n",
      "Processing record 328 of Set 1 | beidao\n",
      "Record not found\n",
      "Processing record 329 of Set 1 | yumen\n",
      "Processing record 330 of Set 1 | spokane\n",
      "Processing record 331 of Set 1 | verkhnyaya inta\n",
      "Processing record 332 of Set 1 | pitimbu\n",
      "Processing record 333 of Set 1 | zhigansk\n",
      "Processing record 334 of Set 1 | alekseyevsk\n",
      "Processing record 335 of Set 1 | santa ana\n",
      "Processing record 336 of Set 1 | evensk\n",
      "Processing record 337 of Set 1 | kawalu\n",
      "Processing record 338 of Set 1 | gazli\n",
      "Processing record 339 of Set 1 | osakarovka\n",
      "Processing record 340 of Set 1 | port lincoln\n",
      "Processing record 341 of Set 1 | sinnar\n",
      "Processing record 342 of Set 1 | callaguip\n",
      "Processing record 343 of Set 1 | itapirapua\n",
      "Processing record 344 of Set 1 | nantucket\n",
      "Processing record 345 of Set 1 | tromso\n",
      "Processing record 346 of Set 1 | sisimiut\n",
      "Processing record 347 of Set 1 | fangshan\n",
      "Record not found\n",
      "Processing record 348 of Set 1 | chifeng\n",
      "Processing record 349 of Set 1 | hewitt\n",
      "Processing record 350 of Set 1 | urumqi\n",
      "Processing record 351 of Set 1 | lima\n",
      "Processing record 352 of Set 1 | huanren\n",
      "Processing record 353 of Set 1 | beyneu\n",
      "Processing record 354 of Set 1 | troitskoye\n",
      "Record not found\n",
      "Processing record 355 of Set 1 | asau\n",
      "Processing record 356 of Set 1 | juegang\n",
      "Processing record 357 of Set 1 | ornskoldsvik\n",
      "Processing record 358 of Set 1 | torbay\n",
      "Processing record 359 of Set 1 | turukhansk\n",
      "Processing record 360 of Set 1 | zheleznodorozhnyy\n",
      "Processing record 361 of Set 1 | bereda\n",
      "Processing record 362 of Set 1 | bone\n",
      "Processing record 363 of Set 1 | souillac\n",
      "Processing record 364 of Set 1 | guilin\n",
      "Processing record 365 of Set 1 | teplodar\n",
      "Processing record 366 of Set 1 | mitsamiouli\n",
      "Processing record 367 of Set 1 | puerto madryn\n",
      "Processing record 368 of Set 1 | tual\n",
      "Processing record 369 of Set 1 | altay\n",
      "Processing record 370 of Set 1 | stornoway\n",
      "Processing record 371 of Set 1 | satana\n",
      "Processing record 372 of Set 1 | kaspiyskiy\n",
      "Processing record 373 of Set 1 | morro da fumaca\n",
      "Processing record 374 of Set 1 | pristen\n",
      "Processing record 375 of Set 1 | tezu\n",
      "Processing record 376 of Set 1 | deputatskiy\n",
      "Processing record 377 of Set 1 | winnemucca\n",
      "Processing record 378 of Set 1 | gibsons\n",
      "Processing record 379 of Set 1 | halifax\n"
     ]
    },
    {
     "name": "stdout",
     "output_type": "stream",
     "text": [
      "Processing record 380 of Set 1 | harper\n",
      "Processing record 381 of Set 1 | kuna\n",
      "Processing record 382 of Set 1 | ilulissat\n",
      "Processing record 383 of Set 1 | paka\n",
      "Processing record 384 of Set 1 | osinki\n",
      "Processing record 385 of Set 1 | coquimbo\n",
      "Processing record 386 of Set 1 | dingle\n",
      "Processing record 387 of Set 1 | kokstad\n",
      "Processing record 388 of Set 1 | cheremukhovo\n",
      "Processing record 389 of Set 1 | yining\n",
      "Record not found\n",
      "Processing record 390 of Set 1 | nemuro\n",
      "Processing record 391 of Set 1 | thinadhoo\n",
      "Processing record 392 of Set 1 | mago\n",
      "Processing record 393 of Set 1 | inverell\n",
      "Processing record 394 of Set 1 | yarkovo\n",
      "Processing record 395 of Set 1 | novaya zaimka\n",
      "Processing record 396 of Set 1 | bandarbeyla\n",
      "Processing record 397 of Set 1 | lorengau\n",
      "Processing record 398 of Set 1 | moerai\n",
      "Processing record 399 of Set 1 | marystown\n",
      "Record not found\n",
      "Processing record 400 of Set 1 | kitob\n",
      "Processing record 401 of Set 1 | elda\n",
      "Processing record 402 of Set 1 | high rock\n",
      "Processing record 403 of Set 1 | lahad datu\n",
      "Processing record 404 of Set 1 | taltal\n",
      "Processing record 405 of Set 1 | ilave\n",
      "Processing record 406 of Set 1 | redlands\n",
      "Processing record 407 of Set 1 | prince george\n",
      "Processing record 408 of Set 1 | ust-nera\n",
      "Processing record 409 of Set 1 | darab\n",
      "Processing record 410 of Set 1 | andra\n",
      "Processing record 411 of Set 1 | muli\n",
      "Processing record 412 of Set 1 | whitecourt\n",
      "Processing record 413 of Set 1 | portland\n",
      "Processing record 414 of Set 1 | hervey bay\n",
      "Processing record 415 of Set 1 | siguiri\n",
      "Processing record 416 of Set 1 | lagunas\n",
      "Processing record 417 of Set 1 | hualmay\n",
      "Processing record 418 of Set 1 | grand gaube\n",
      "Processing record 419 of Set 1 | kununurra\n",
      "Processing record 420 of Set 1 | belmonte\n",
      "Processing record 421 of Set 1 | gizo\n",
      "Processing record 422 of Set 1 | pringsewu\n",
      "Processing record 423 of Set 1 | shelburne\n",
      "Processing record 424 of Set 1 | verkhnevilyuysk\n",
      "Processing record 425 of Set 1 | luanda\n",
      "Processing record 426 of Set 1 | coahuayana\n",
      "Processing record 427 of Set 1 | kattivakkam\n",
      "Processing record 428 of Set 1 | svetlyy\n",
      "Record not found\n",
      "Processing record 429 of Set 1 | shanghai\n",
      "Processing record 430 of Set 1 | hobyo\n",
      "Processing record 431 of Set 1 | gardez\n",
      "Processing record 432 of Set 1 | ternate\n",
      "Processing record 433 of Set 1 | puerto narino\n",
      "Processing record 434 of Set 1 | kui buri\n",
      "Processing record 435 of Set 1 | clarksburg\n",
      "Processing record 436 of Set 1 | teknaf\n",
      "Processing record 437 of Set 1 | koson\n",
      "Processing record 438 of Set 1 | nago\n",
      "Processing record 439 of Set 1 | diapaga\n",
      "Processing record 440 of Set 1 | corinto\n",
      "Processing record 441 of Set 1 | aginskoye\n",
      "Processing record 442 of Set 1 | vila do maio\n",
      "Processing record 443 of Set 1 | moose factory\n",
      "Processing record 444 of Set 1 | mehamn\n",
      "Processing record 445 of Set 1 | iquitos\n",
      "Processing record 446 of Set 1 | alugan\n",
      "Processing record 447 of Set 1 | luganville\n",
      "Processing record 448 of Set 1 | asfi\n",
      "Processing record 449 of Set 1 | ust-koksa\n",
      "Record not found\n",
      "Processing record 450 of Set 1 | puerto carreno\n",
      "Processing record 451 of Set 1 | omboue\n",
      "Processing record 452 of Set 1 | marzuq\n",
      "Processing record 453 of Set 1 | lafia\n",
      "Record not found\n",
      "Processing record 454 of Set 1 | khandbari\n",
      "Processing record 455 of Set 1 | hamza\n",
      "Processing record 456 of Set 1 | naples\n",
      "Processing record 457 of Set 1 | manta\n",
      "Processing record 458 of Set 1 | svetlogorsk\n",
      "Record not found\n",
      "Processing record 459 of Set 1 | rognan\n",
      "Processing record 460 of Set 1 | shiraz\n",
      "Processing record 461 of Set 1 | wake forest\n",
      "Processing record 462 of Set 1 | edelira\n",
      "Processing record 463 of Set 1 | santiago del estero\n",
      "Processing record 464 of Set 1 | touros\n",
      "Processing record 465 of Set 1 | mushie\n",
      "Processing record 466 of Set 1 | bosaso\n",
      "Processing record 467 of Set 1 | nuuk\n",
      "Processing record 468 of Set 1 | faya\n",
      "Record not found\n",
      "Processing record 469 of Set 1 | campbell river\n",
      "Processing record 470 of Set 1 | tanout\n",
      "Processing record 471 of Set 1 | nouakchott\n",
      "Processing record 472 of Set 1 | tomatlan\n",
      "Processing record 473 of Set 1 | ancud\n",
      "Processing record 474 of Set 1 | shingu\n",
      "Processing record 475 of Set 1 | batagay-alyta\n",
      "Processing record 476 of Set 1 | shush\n",
      "Processing record 477 of Set 1 | warrington\n",
      "Processing record 478 of Set 1 | tamworth\n",
      "Processing record 479 of Set 1 | roma\n",
      "Processing record 480 of Set 1 | avera\n",
      "Processing record 481 of Set 1 | fort nelson\n",
      "Processing record 482 of Set 1 | celestun\n",
      "Processing record 483 of Set 1 | oyama\n",
      "Processing record 484 of Set 1 | vila franca do campo\n",
      "Processing record 485 of Set 1 | barcelos\n",
      "Processing record 486 of Set 1 | miyako\n",
      "Processing record 487 of Set 1 | saravena\n",
      "Processing record 488 of Set 1 | rawah\n",
      "Processing record 489 of Set 1 | barguzin\n",
      "Processing record 490 of Set 1 | leesburg\n",
      "Processing record 491 of Set 1 | ban tak\n",
      "Processing record 492 of Set 1 | chulym\n",
      "Processing record 493 of Set 1 | batouri\n",
      "Processing record 494 of Set 1 | mango\n",
      "Processing record 495 of Set 1 | tura\n",
      "Processing record 496 of Set 1 | komsomolskiy\n",
      "Processing record 497 of Set 1 | okha\n",
      "Processing record 498 of Set 1 | madisonville\n",
      "Record not found\n",
      "Processing record 499 of Set 1 | westport\n",
      "Processing record 500 of Set 1 | brooks\n",
      "Processing record 501 of Set 1 | bhilwara\n",
      "Processing record 502 of Set 1 | gore\n",
      "Processing record 503 of Set 1 | mareeba\n",
      "Processing record 504 of Set 1 | lai\n",
      "Record not found\n",
      "Processing record 505 of Set 1 | bitlis\n",
      "Processing record 506 of Set 1 | mantua\n",
      "Processing record 507 of Set 1 | araouane\n",
      "Processing record 508 of Set 1 | soledade\n",
      "Processing record 509 of Set 1 | klaksvik\n",
      "Record not found\n",
      "Processing record 510 of Set 1 | baiao\n",
      "Processing record 511 of Set 1 | carsamba\n",
      "Processing record 512 of Set 1 | vardo\n",
      "Record not found\n",
      "Processing record 513 of Set 1 | manturovo\n",
      "Record not found\n",
      "Processing record 514 of Set 1 | antofagasta\n",
      "Processing record 515 of Set 1 | bilma\n",
      "Processing record 516 of Set 1 | helong\n",
      "Processing record 517 of Set 1 | moissala\n",
      "Processing record 518 of Set 1 | lincoln\n",
      "Processing record 519 of Set 1 | kedrovyy\n",
      "Processing record 520 of Set 1 | darovskoy\n",
      "Processing record 521 of Set 1 | saint-pierre\n",
      "Record not found\n",
      "Processing record 522 of Set 1 | manakara\n",
      "Processing record 523 of Set 1 | tateyama\n",
      "Processing record 524 of Set 1 | saint-augustin\n",
      "Processing record 525 of Set 1 | pauini\n",
      "Processing record 526 of Set 1 | atar\n",
      "Record not found\n",
      "Processing record 527 of Set 1 | rocha\n",
      "Processing record 528 of Set 1 | abashiri\n",
      "Processing record 529 of Set 1 | rapid city\n",
      "Processing record 530 of Set 1 | naryan-mar\n",
      "Processing record 531 of Set 1 | camana\n",
      "Processing record 532 of Set 1 | muros\n",
      "Processing record 533 of Set 1 | jevicko\n",
      "Processing record 534 of Set 1 | kakonko\n",
      "Processing record 535 of Set 1 | shirokovskiy\n",
      "Processing record 536 of Set 1 | port-cartier\n",
      "Processing record 537 of Set 1 | warren\n",
      "Processing record 538 of Set 1 | vestmannaeyjar\n",
      "Record not found\n",
      "Processing record 539 of Set 1 | indian head\n",
      "Processing record 540 of Set 1 | the pas\n",
      "Processing record 541 of Set 1 | micheweni\n",
      "Processing record 542 of Set 1 | vanavara\n",
      "Processing record 543 of Set 1 | safranbolu\n"
     ]
    }
   ],
   "source": [
    "# lists to hold info\n",
    "\n",
    "cityname = []\n",
    "cloudiness = []\n",
    "country = []\n",
    "date = []\n",
    "humidity = []\n",
    "lat = []\n",
    "lng = []\n",
    "max_temp = []\n",
    "wind_speed = []\n",
    "count = 0\n",
    "\n",
    "    \n",
    "# Loop through the list of cities\n",
    "\n",
    "for city in cities:\n",
    "    weather_response = requests.get(target_url + \"&q=\" + city + \"&units=Imperial\")\n",
    "    weather_json = weather_response.json()\n",
    "    try:\n",
    "        cityname.append(weather_json['city']['name'])\n",
    "        cloudiness.append(weather_json['list'][0]['clouds']['all'])\n",
    "        country.append(weather_json['city']['country'])\n",
    "        date.append(weather_json['list'][0]['dt'])\n",
    "        humidity.append(weather_json['list'][0]['main']['humidity'])\n",
    "        lat.append(weather_json['city']['coord']['lat'])\n",
    "        lng.append(weather_json['city']['coord']['lon'])\n",
    "        max_temp.append(weather_json['list'][0]['main']['temp_max'])\n",
    "        wind_speed.append(weather_json['list'][0]['wind']['speed'])\n",
    "        count = count + 1\n",
    "        print(f\"Processing record {count} of Set 1 | {city}\")\n",
    "    except:\n",
    "        print(\"Record not found\") \n",
    "        pass\n"
   ]
  },
  {
   "cell_type": "markdown",
   "metadata": {},
   "source": [
    "### Convert Raw Data to DataFrame\n",
    "* Export the city data into a .csv.\n",
    "* Display the DataFrame"
   ]
  },
  {
   "cell_type": "code",
   "execution_count": 6,
   "metadata": {},
   "outputs": [
    {
     "data": {
      "text/html": [
       "<div>\n",
       "<style scoped>\n",
       "    .dataframe tbody tr th:only-of-type {\n",
       "        vertical-align: middle;\n",
       "    }\n",
       "\n",
       "    .dataframe tbody tr th {\n",
       "        vertical-align: top;\n",
       "    }\n",
       "\n",
       "    .dataframe thead th {\n",
       "        text-align: right;\n",
       "    }\n",
       "</style>\n",
       "<table border=\"1\" class=\"dataframe\">\n",
       "  <thead>\n",
       "    <tr style=\"text-align: right;\">\n",
       "      <th></th>\n",
       "      <th>City</th>\n",
       "      <th>Latitude</th>\n",
       "      <th>Longitude</th>\n",
       "      <th>Max Temp</th>\n",
       "      <th>Humidity</th>\n",
       "      <th>Cloudiness</th>\n",
       "      <th>Wind Speed</th>\n",
       "      <th>Country</th>\n",
       "      <th>Date</th>\n",
       "    </tr>\n",
       "  </thead>\n",
       "  <tbody>\n",
       "    <tr>\n",
       "      <th>0</th>\n",
       "      <td>Nanortalik</td>\n",
       "      <td>60.1432</td>\n",
       "      <td>-45.2371</td>\n",
       "      <td>48.87</td>\n",
       "      <td>79</td>\n",
       "      <td>82</td>\n",
       "      <td>6.98</td>\n",
       "      <td>GL</td>\n",
       "      <td>1663243200</td>\n",
       "    </tr>\n",
       "    <tr>\n",
       "      <th>1</th>\n",
       "      <td>Leningradskiy</td>\n",
       "      <td>69.3833</td>\n",
       "      <td>178.4167</td>\n",
       "      <td>35.56</td>\n",
       "      <td>99</td>\n",
       "      <td>100</td>\n",
       "      <td>2.73</td>\n",
       "      <td>RU</td>\n",
       "      <td>1663243200</td>\n",
       "    </tr>\n",
       "    <tr>\n",
       "      <th>2</th>\n",
       "      <td>Saldanha</td>\n",
       "      <td>-33.0117</td>\n",
       "      <td>17.9442</td>\n",
       "      <td>77.05</td>\n",
       "      <td>60</td>\n",
       "      <td>70</td>\n",
       "      <td>8.37</td>\n",
       "      <td>ZA</td>\n",
       "      <td>1663243200</td>\n",
       "    </tr>\n",
       "    <tr>\n",
       "      <th>3</th>\n",
       "      <td>Broken Hill</td>\n",
       "      <td>-31.9500</td>\n",
       "      <td>141.4333</td>\n",
       "      <td>57.72</td>\n",
       "      <td>35</td>\n",
       "      <td>25</td>\n",
       "      <td>11.65</td>\n",
       "      <td>AU</td>\n",
       "      <td>1663243200</td>\n",
       "    </tr>\n",
       "    <tr>\n",
       "      <th>4</th>\n",
       "      <td>Labuhan</td>\n",
       "      <td>-6.8844</td>\n",
       "      <td>112.2051</td>\n",
       "      <td>83.39</td>\n",
       "      <td>67</td>\n",
       "      <td>52</td>\n",
       "      <td>5.95</td>\n",
       "      <td>ID</td>\n",
       "      <td>1663243200</td>\n",
       "    </tr>\n",
       "  </tbody>\n",
       "</table>\n",
       "</div>"
      ],
      "text/plain": [
       "            City  Latitude  Longitude  Max Temp  Humidity  Cloudiness  \\\n",
       "0     Nanortalik   60.1432   -45.2371     48.87        79          82   \n",
       "1  Leningradskiy   69.3833   178.4167     35.56        99         100   \n",
       "2       Saldanha  -33.0117    17.9442     77.05        60          70   \n",
       "3    Broken Hill  -31.9500   141.4333     57.72        35          25   \n",
       "4        Labuhan   -6.8844   112.2051     83.39        67          52   \n",
       "\n",
       "   Wind Speed Country        Date  \n",
       "0        6.98      GL  1663243200  \n",
       "1        2.73      RU  1663243200  \n",
       "2        8.37      ZA  1663243200  \n",
       "3       11.65      AU  1663243200  \n",
       "4        5.95      ID  1663243200  "
      ]
     },
     "execution_count": 6,
     "metadata": {},
     "output_type": "execute_result"
    }
   ],
   "source": [
    "weather_dict = {\"City\": cityname,\"Latitude\": lat, \"Longitude\":lng,\n",
    "                \"Max Temp\":max_temp,\"Humidity\":humidity,\"Cloudiness\":cloudiness,\n",
    "                \"Wind Speed\":wind_speed,\"Country\":country, \"Date\":date}\n",
    "weather_data = pd.DataFrame(weather_dict)\n",
    "weather_data.head()"
   ]
  },
  {
   "cell_type": "code",
   "execution_count": 8,
   "metadata": {},
   "outputs": [
    {
     "data": {
      "text/html": [
       "<div>\n",
       "<style scoped>\n",
       "    .dataframe tbody tr th:only-of-type {\n",
       "        vertical-align: middle;\n",
       "    }\n",
       "\n",
       "    .dataframe tbody tr th {\n",
       "        vertical-align: top;\n",
       "    }\n",
       "\n",
       "    .dataframe thead th {\n",
       "        text-align: right;\n",
       "    }\n",
       "</style>\n",
       "<table border=\"1\" class=\"dataframe\">\n",
       "  <thead>\n",
       "    <tr style=\"text-align: right;\">\n",
       "      <th></th>\n",
       "      <th>City</th>\n",
       "      <th>Latitude</th>\n",
       "      <th>Longitude</th>\n",
       "      <th>Max Temp</th>\n",
       "      <th>Humidity</th>\n",
       "      <th>Cloudiness</th>\n",
       "      <th>Wind Speed</th>\n",
       "      <th>Country</th>\n",
       "      <th>Date</th>\n",
       "    </tr>\n",
       "  </thead>\n",
       "  <tbody>\n",
       "    <tr>\n",
       "      <th>0</th>\n",
       "      <td>Nanortalik</td>\n",
       "      <td>60.1432</td>\n",
       "      <td>-45.2371</td>\n",
       "      <td>48.87</td>\n",
       "      <td>79</td>\n",
       "      <td>82</td>\n",
       "      <td>6.98</td>\n",
       "      <td>GL</td>\n",
       "      <td>1663243200</td>\n",
       "    </tr>\n",
       "    <tr>\n",
       "      <th>1</th>\n",
       "      <td>Leningradskiy</td>\n",
       "      <td>69.3833</td>\n",
       "      <td>178.4167</td>\n",
       "      <td>35.56</td>\n",
       "      <td>99</td>\n",
       "      <td>100</td>\n",
       "      <td>2.73</td>\n",
       "      <td>RU</td>\n",
       "      <td>1663243200</td>\n",
       "    </tr>\n",
       "    <tr>\n",
       "      <th>2</th>\n",
       "      <td>Saldanha</td>\n",
       "      <td>-33.0117</td>\n",
       "      <td>17.9442</td>\n",
       "      <td>77.05</td>\n",
       "      <td>60</td>\n",
       "      <td>70</td>\n",
       "      <td>8.37</td>\n",
       "      <td>ZA</td>\n",
       "      <td>1663243200</td>\n",
       "    </tr>\n",
       "    <tr>\n",
       "      <th>3</th>\n",
       "      <td>Broken Hill</td>\n",
       "      <td>-31.9500</td>\n",
       "      <td>141.4333</td>\n",
       "      <td>57.72</td>\n",
       "      <td>35</td>\n",
       "      <td>25</td>\n",
       "      <td>11.65</td>\n",
       "      <td>AU</td>\n",
       "      <td>1663243200</td>\n",
       "    </tr>\n",
       "    <tr>\n",
       "      <th>4</th>\n",
       "      <td>Labuhan</td>\n",
       "      <td>-6.8844</td>\n",
       "      <td>112.2051</td>\n",
       "      <td>83.39</td>\n",
       "      <td>67</td>\n",
       "      <td>52</td>\n",
       "      <td>5.95</td>\n",
       "      <td>ID</td>\n",
       "      <td>1663243200</td>\n",
       "    </tr>\n",
       "    <tr>\n",
       "      <th>5</th>\n",
       "      <td>Sola</td>\n",
       "      <td>-13.8833</td>\n",
       "      <td>167.5500</td>\n",
       "      <td>80.56</td>\n",
       "      <td>76</td>\n",
       "      <td>26</td>\n",
       "      <td>15.30</td>\n",
       "      <td>VU</td>\n",
       "      <td>1663243200</td>\n",
       "    </tr>\n",
       "    <tr>\n",
       "      <th>6</th>\n",
       "      <td>Isangel</td>\n",
       "      <td>-19.5500</td>\n",
       "      <td>169.2667</td>\n",
       "      <td>72.45</td>\n",
       "      <td>85</td>\n",
       "      <td>35</td>\n",
       "      <td>11.50</td>\n",
       "      <td>VU</td>\n",
       "      <td>1663243200</td>\n",
       "    </tr>\n",
       "    <tr>\n",
       "      <th>7</th>\n",
       "      <td>Mataura</td>\n",
       "      <td>-46.1927</td>\n",
       "      <td>168.8643</td>\n",
       "      <td>46.47</td>\n",
       "      <td>98</td>\n",
       "      <td>100</td>\n",
       "      <td>7.45</td>\n",
       "      <td>NZ</td>\n",
       "      <td>1663243200</td>\n",
       "    </tr>\n",
       "    <tr>\n",
       "      <th>8</th>\n",
       "      <td>Half Moon Bay</td>\n",
       "      <td>37.4636</td>\n",
       "      <td>-122.4286</td>\n",
       "      <td>58.84</td>\n",
       "      <td>92</td>\n",
       "      <td>100</td>\n",
       "      <td>2.98</td>\n",
       "      <td>US</td>\n",
       "      <td>1663243200</td>\n",
       "    </tr>\n",
       "    <tr>\n",
       "      <th>9</th>\n",
       "      <td>Ribeira Grande</td>\n",
       "      <td>38.5167</td>\n",
       "      <td>-28.7000</td>\n",
       "      <td>77.40</td>\n",
       "      <td>88</td>\n",
       "      <td>40</td>\n",
       "      <td>20.56</td>\n",
       "      <td>PT</td>\n",
       "      <td>1663243200</td>\n",
       "    </tr>\n",
       "  </tbody>\n",
       "</table>\n",
       "</div>"
      ],
      "text/plain": [
       "             City  Latitude  Longitude  Max Temp  Humidity  Cloudiness  \\\n",
       "0      Nanortalik   60.1432   -45.2371     48.87        79          82   \n",
       "1   Leningradskiy   69.3833   178.4167     35.56        99         100   \n",
       "2        Saldanha  -33.0117    17.9442     77.05        60          70   \n",
       "3     Broken Hill  -31.9500   141.4333     57.72        35          25   \n",
       "4         Labuhan   -6.8844   112.2051     83.39        67          52   \n",
       "5            Sola  -13.8833   167.5500     80.56        76          26   \n",
       "6         Isangel  -19.5500   169.2667     72.45        85          35   \n",
       "7         Mataura  -46.1927   168.8643     46.47        98         100   \n",
       "8   Half Moon Bay   37.4636  -122.4286     58.84        92         100   \n",
       "9  Ribeira Grande   38.5167   -28.7000     77.40        88          40   \n",
       "\n",
       "   Wind Speed Country        Date  \n",
       "0        6.98      GL  1663243200  \n",
       "1        2.73      RU  1663243200  \n",
       "2        8.37      ZA  1663243200  \n",
       "3       11.65      AU  1663243200  \n",
       "4        5.95      ID  1663243200  \n",
       "5       15.30      VU  1663243200  \n",
       "6       11.50      VU  1663243200  \n",
       "7        7.45      NZ  1663243200  \n",
       "8        2.98      US  1663243200  \n",
       "9       20.56      PT  1663243200  "
      ]
     },
     "execution_count": 8,
     "metadata": {},
     "output_type": "execute_result"
    }
   ],
   "source": [
    "# Export the City_Data into a csv\n",
    "weather_data.to_csv(\"my_weather_data.csv\")\n",
    "weather_data.head(10)"
   ]
  },
  {
   "cell_type": "markdown",
   "metadata": {},
   "source": [
    "## Inspect the data and remove the cities where the humidity > 100%.\n",
    "----\n",
    "Skip this step if there are no cities that have humidity > 100%. "
   ]
  },
  {
   "cell_type": "code",
   "execution_count": null,
   "metadata": {},
   "outputs": [],
   "source": [
    "#  Get the indices of cities that have humidity over 100%.\n"
   ]
  },
  {
   "cell_type": "code",
   "execution_count": null,
   "metadata": {},
   "outputs": [],
   "source": [
    "# Make a new DataFrame equal to the city data to drop all humidity outliers by index.\n",
    "# Passing \"inplace=False\" will make a copy of the city_data DataFrame, which we call \"clean_city_data\".\n"
   ]
  },
  {
   "cell_type": "markdown",
   "metadata": {},
   "source": [
    "## Plotting the Data\n",
    "* Use proper labelling of the plots using plot titles (including date of analysis) and axes labels.\n",
    "* Save the plotted figures as .pngs."
   ]
  },
  {
   "cell_type": "markdown",
   "metadata": {},
   "source": [
    "## Latitude vs. Temperature Plot"
   ]
  },
  {
   "cell_type": "code",
   "execution_count": 9,
   "metadata": {
    "scrolled": true
   },
   "outputs": [
    {
     "data": {
      "image/png": "[encoded data removed]",
      "text/plain": [
       "<Figure size 432x288 with 1 Axes>"
      ]
     },
     "metadata": {
      "needs_background": "light"
     },
     "output_type": "display_data"
    }
   ],
   "source": [
    "lat = weather_data[\"Latitude\"]\n",
    "temp = weather_data[\"Max Temp\"]\n",
    "\n",
    "plt.scatter(lat,temp)\n",
    "plt.title('City Latitude vs. Max Temperature')\n",
    "plt.xlabel('Latitude')\n",
    "plt.ylabel('Max Temperature (C)')\n",
    "plt.savefig('scatplotlatitudemaxtemp')\n",
    "plt.show()\n"
   ]
  },
  {
   "cell_type": "markdown",
   "metadata": {},
   "source": [
    "## Latitude vs. Humidity Plot"
   ]
  },
  {
   "cell_type": "code",
   "execution_count": 10,
   "metadata": {},
   "outputs": [
    {
     "data": {
      "image/png": "[encoded data removed]",
      "text/plain": [
       "<Figure size 432x288 with 1 Axes>"
      ]
     },
     "metadata": {
      "needs_background": "light"
     },
     "output_type": "display_data"
    }
   ],
   "source": [
    "hum = weather_data[\"Humidity\"]\n",
    "\n",
    "plt.scatter(lat,hum)\n",
    "plt.title('City Latitude vs. Humidity')\n",
    "plt.xlabel('Latitude')\n",
    "plt.ylabel('Humidity (%)')\n",
    "plt.savefig('scatplotlatitudehumidity')\n",
    "plt.show()\n"
   ]
  },
  {
   "cell_type": "markdown",
   "metadata": {},
   "source": [
    "## Latitude vs. Cloudiness Plot"
   ]
  },
  {
   "cell_type": "code",
   "execution_count": 11,
   "metadata": {},
   "outputs": [
    {
     "data": {
      "image/png": "[encoded data removed]",
      "text/plain": [
       "<Figure size 432x288 with 1 Axes>"
      ]
     },
     "metadata": {
      "needs_background": "light"
     },
     "output_type": "display_data"
    }
   ],
   "source": [
    "cloud = weather_data[\"Cloudiness\"]\n",
    "\n",
    "plt.scatter(lat,cloud)\n",
    "plt.title('City Latitude vs. Cloudiness')\n",
    "plt.xlabel('Latitude')\n",
    "plt.ylabel('Cloudiness (%)')\n",
    "plt.savefig('scatplotlatitudecloudiness')\n",
    "plt.show()\n"
   ]
  },
  {
   "cell_type": "markdown",
   "metadata": {},
   "source": [
    "## Latitude vs. Wind Speed Plot"
   ]
  },
  {
   "cell_type": "code",
   "execution_count": 12,
   "metadata": {},
   "outputs": [
    {
     "data": {
      "image/png": "[encoded data removed]",
      "text/plain": [
       "<Figure size 432x288 with 1 Axes>"
      ]
     },
     "metadata": {
      "needs_background": "light"
     },
     "output_type": "display_data"
    }
   ],
   "source": [
    "wind = weather_data[\"Wind Speed\"]\n",
    "\n",
    "plt.scatter(lat,wind)\n",
    "plt.title('City Latitude vs. Wind Speed')\n",
    "plt.xlabel('Latitude')\n",
    "plt.ylabel('Wind Speed (m/s)')\n",
    "plt.savefig('scatplotlatitudewindspeed')\n",
    "plt.show()\n"
   ]
  },
  {
   "cell_type": "markdown",
   "metadata": {},
   "source": [
    "## Linear Regression"
   ]
  },
  {
   "cell_type": "code",
   "execution_count": 13,
   "metadata": {},
   "outputs": [],
   "source": [
    "def plot_linear_regression(x_values, y_values, title, text_coordinates):\n",
    "    (slope, intercept, rvalue, pvalue, stderr) = linregress(x_values, y_values)\n",
    "    regress_values = x_values * slope + intercept\n",
    "    line_eq = \"y = \" + str(round(slope,2)) + \"x + \" + str(round(intercept,2))\n",
    "    \n",
    "    plt.scatter(x_values,y_values)\n",
    "    plt.plot(x_values,regress_values,\"r-\")\n",
    "    plt.annotate(line_eq,text_coordinates,fontsize=14,color=\"red\")\n",
    "    plt.xlabel(\"Latitude\")\n",
    "    plt.ylabel(title)\n",
    "    print(f\"The r-squared is: {rvalue}\")\n",
    "    plt.show()\n"
   ]
  },
  {
   "cell_type": "markdown",
   "metadata": {},
   "source": [
    "###  Max Temp vs. Latitude Linear Regression"
   ]
  },
  {
   "cell_type": "markdown",
   "metadata": {},
   "source": [
    "####  Northern Hemisphere - Max Temp vs. Latitude Linear Regression"
   ]
  },
  {
   "cell_type": "code",
   "execution_count": 14,
   "metadata": {},
   "outputs": [
    {
     "data": {
      "text/html": [
       "<div>\n",
       "<style scoped>\n",
       "    .dataframe tbody tr th:only-of-type {\n",
       "        vertical-align: middle;\n",
       "    }\n",
       "\n",
       "    .dataframe tbody tr th {\n",
       "        vertical-align: top;\n",
       "    }\n",
       "\n",
       "    .dataframe thead th {\n",
       "        text-align: right;\n",
       "    }\n",
       "</style>\n",
       "<table border=\"1\" class=\"dataframe\">\n",
       "  <thead>\n",
       "    <tr style=\"text-align: right;\">\n",
       "      <th></th>\n",
       "      <th>City</th>\n",
       "      <th>Latitude</th>\n",
       "      <th>Longitude</th>\n",
       "      <th>Max Temp</th>\n",
       "      <th>Humidity</th>\n",
       "      <th>Cloudiness</th>\n",
       "      <th>Wind Speed</th>\n",
       "      <th>Country</th>\n",
       "      <th>Date</th>\n",
       "    </tr>\n",
       "  </thead>\n",
       "  <tbody>\n",
       "    <tr>\n",
       "      <th>0</th>\n",
       "      <td>Nanortalik</td>\n",
       "      <td>60.1432</td>\n",
       "      <td>-45.2371</td>\n",
       "      <td>48.87</td>\n",
       "      <td>79</td>\n",
       "      <td>82</td>\n",
       "      <td>6.98</td>\n",
       "      <td>GL</td>\n",
       "      <td>1663243200</td>\n",
       "    </tr>\n",
       "    <tr>\n",
       "      <th>1</th>\n",
       "      <td>Leningradskiy</td>\n",
       "      <td>69.3833</td>\n",
       "      <td>178.4167</td>\n",
       "      <td>35.56</td>\n",
       "      <td>99</td>\n",
       "      <td>100</td>\n",
       "      <td>2.73</td>\n",
       "      <td>RU</td>\n",
       "      <td>1663243200</td>\n",
       "    </tr>\n",
       "    <tr>\n",
       "      <th>8</th>\n",
       "      <td>Half Moon Bay</td>\n",
       "      <td>37.4636</td>\n",
       "      <td>-122.4286</td>\n",
       "      <td>58.84</td>\n",
       "      <td>92</td>\n",
       "      <td>100</td>\n",
       "      <td>2.98</td>\n",
       "      <td>US</td>\n",
       "      <td>1663243200</td>\n",
       "    </tr>\n",
       "    <tr>\n",
       "      <th>9</th>\n",
       "      <td>Ribeira Grande</td>\n",
       "      <td>38.5167</td>\n",
       "      <td>-28.7000</td>\n",
       "      <td>77.40</td>\n",
       "      <td>88</td>\n",
       "      <td>40</td>\n",
       "      <td>20.56</td>\n",
       "      <td>PT</td>\n",
       "      <td>1663243200</td>\n",
       "    </tr>\n",
       "    <tr>\n",
       "      <th>10</th>\n",
       "      <td>Gao</td>\n",
       "      <td>16.6362</td>\n",
       "      <td>1.6370</td>\n",
       "      <td>102.90</td>\n",
       "      <td>18</td>\n",
       "      <td>4</td>\n",
       "      <td>7.47</td>\n",
       "      <td>ML</td>\n",
       "      <td>1663243200</td>\n",
       "    </tr>\n",
       "  </tbody>\n",
       "</table>\n",
       "</div>"
      ],
      "text/plain": [
       "              City  Latitude  Longitude  Max Temp  Humidity  Cloudiness  \\\n",
       "0       Nanortalik   60.1432   -45.2371     48.87        79          82   \n",
       "1    Leningradskiy   69.3833   178.4167     35.56        99         100   \n",
       "8    Half Moon Bay   37.4636  -122.4286     58.84        92         100   \n",
       "9   Ribeira Grande   38.5167   -28.7000     77.40        88          40   \n",
       "10             Gao   16.6362     1.6370    102.90        18           4   \n",
       "\n",
       "    Wind Speed Country        Date  \n",
       "0         6.98      GL  1663243200  \n",
       "1         2.73      RU  1663243200  \n",
       "8         2.98      US  1663243200  \n",
       "9        20.56      PT  1663243200  \n",
       "10        7.47      ML  1663243200  "
      ]
     },
     "execution_count": 14,
     "metadata": {},
     "output_type": "execute_result"
    }
   ],
   "source": [
    "northlat_df = weather_data.loc[weather_data[\"Latitude\"] >= 0,:]\n",
    "southlat_df = weather_data.loc[weather_data[\"Latitude\"] < 0,:]\n",
    "\n",
    "northlat_df.head()\n"
   ]
  },
  {
   "cell_type": "code",
   "execution_count": 15,
   "metadata": {},
   "outputs": [
    {
     "name": "stdout",
     "output_type": "stream",
     "text": [
      "The r-squared is: -0.7981488723467455\n"
     ]
    },
    {
     "data": {
      "image/png": "[encoded data removed]",
      "text/plain": [
       "<Figure size 432x288 with 1 Axes>"
      ]
     },
     "metadata": {
      "needs_background": "light"
     },
     "output_type": "display_data"
    },
    {
     "data": {
      "text/plain": [
       "<Figure size 432x288 with 0 Axes>"
      ]
     },
     "metadata": {},
     "output_type": "display_data"
    }
   ],
   "source": [
    "x_values = northlat_df[\"Latitude\"]\n",
    "y_values = northlat_df[\"Max Temp\"]\n",
    "plot_linear_regression(x_values,y_values,'Max Temp',(6,30))\n",
    "\n",
    "plt.savefig('northerntemplat')\n"
   ]
  },
  {
   "cell_type": "markdown",
   "metadata": {},
   "source": [
    "####  Southern Hemisphere - Max Temp vs. Latitude Linear Regression"
   ]
  },
  {
   "cell_type": "code",
   "execution_count": 16,
   "metadata": {},
   "outputs": [
    {
     "name": "stdout",
     "output_type": "stream",
     "text": [
      "The r-squared is: 0.7316073384139318\n"
     ]
    },
    {
     "data": {
      "image/png": "[encoded data removed]",
      "text/plain": [
       "<Figure size 432x288 with 1 Axes>"
      ]
     },
     "metadata": {
      "needs_background": "light"
     },
     "output_type": "display_data"
    },
    {
     "name": "stdout",
     "output_type": "stream",
     "text": [
      "The high r value indicates a strong positive correlation between latitude and max temperature.\n"
     ]
    },
    {
     "data": {
      "text/plain": [
       "<Figure size 432x288 with 0 Axes>"
      ]
     },
     "metadata": {},
     "output_type": "display_data"
    }
   ],
   "source": [
    "x_values = southlat_df[\"Latitude\"]\n",
    "y_values = southlat_df[\"Max Temp\"]\n",
    "plot_linear_regression(x_values,y_values,'Max Temp',(6,30))\n",
    "\n",
    "plt.savefig('southerntemplat')\n",
    "\n",
    "print(\"The high r value indicates a strong positive correlation between latitude and max temperature.\")\n"
   ]
  },
  {
   "cell_type": "markdown",
   "metadata": {},
   "source": [
    "### Humidity (%) vs. Latitude Linear Regression"
   ]
  },
  {
   "cell_type": "markdown",
   "metadata": {},
   "source": [
    "####  Northern Hemisphere - Humidity (%) vs. Latitude Linear Regression"
   ]
  },
  {
   "cell_type": "code",
   "execution_count": 17,
   "metadata": {},
   "outputs": [
    {
     "name": "stdout",
     "output_type": "stream",
     "text": [
      "The r-squared is: 0.12933322349508636\n"
     ]
    },
    {
     "data": {
      "image/png": "[encoded data removed]",
      "text/plain": [
       "<Figure size 432x288 with 1 Axes>"
      ]
     },
     "metadata": {
      "needs_background": "light"
     },
     "output_type": "display_data"
    },
    {
     "data": {
      "text/plain": [
       "<Figure size 432x288 with 0 Axes>"
      ]
     },
     "metadata": {},
     "output_type": "display_data"
    }
   ],
   "source": [
    "x_values = northlat_df[\"Latitude\"]\n",
    "y_values = northlat_df[\"Humidity\"]\n",
    "plot_linear_regression(x_values,y_values,'Humidity',(6,30))\n",
    "\n",
    "plt.savefig('northernhumlat')\n"
   ]
  },
  {
   "cell_type": "markdown",
   "metadata": {},
   "source": [
    "####  Southern Hemisphere - Humidity (%) vs. Latitude Linear Regression"
   ]
  },
  {
   "cell_type": "code",
   "execution_count": 18,
   "metadata": {},
   "outputs": [
    {
     "name": "stdout",
     "output_type": "stream",
     "text": [
      "The r-squared is: 0.0003258311933052103\n"
     ]
    },
    {
     "data": {
      "image/png": "[encoded data removed]",
      "text/plain": [
       "<Figure size 432x288 with 1 Axes>"
      ]
     },
     "metadata": {
      "needs_background": "light"
     },
     "output_type": "display_data"
    },
    {
     "name": "stdout",
     "output_type": "stream",
     "text": [
      "The low r values indicate a weak to no relationship between humidity and latitude.\n"
     ]
    },
    {
     "data": {
      "text/plain": [
       "<Figure size 432x288 with 0 Axes>"
      ]
     },
     "metadata": {},
     "output_type": "display_data"
    }
   ],
   "source": [
    "x_values = southlat_df[\"Latitude\"]\n",
    "y_values = southlat_df[\"Humidity\"]\n",
    "plot_linear_regression(x_values,y_values,'Humidity',(6,30))\n",
    "\n",
    "plt.savefig('southernhumlat')\n",
    "\n",
    "print(\"The low r values indicate a weak to no relationship between humidity and latitude.\")\n"
   ]
  },
  {
   "cell_type": "markdown",
   "metadata": {},
   "source": [
    "### Cloudiness (%) vs. Latitude Linear Regression"
   ]
  },
  {
   "cell_type": "markdown",
   "metadata": {},
   "source": [
    "####  Northern Hemisphere - Cloudiness (%) vs. Latitude Linear Regression"
   ]
  },
  {
   "cell_type": "code",
   "execution_count": 19,
   "metadata": {},
   "outputs": [
    {
     "name": "stdout",
     "output_type": "stream",
     "text": [
      "The r-squared is: 0.17330200830510478\n"
     ]
    },
    {
     "data": {
      "image/png": "[encoded data removed]",
      "text/plain": [
       "<Figure size 432x288 with 1 Axes>"
      ]
     },
     "metadata": {
      "needs_background": "light"
     },
     "output_type": "display_data"
    },
    {
     "data": {
      "text/plain": [
       "<Figure size 432x288 with 0 Axes>"
      ]
     },
     "metadata": {},
     "output_type": "display_data"
    }
   ],
   "source": [
    "x_values = northlat_df[\"Latitude\"]\n",
    "y_values = northlat_df[\"Cloudiness\"]\n",
    "plot_linear_regression(x_values,y_values,'Cloudiness',(6,30))\n",
    "\n",
    "plt.savefig('northerncloudlat')\n"
   ]
  },
  {
   "cell_type": "markdown",
   "metadata": {},
   "source": [
    "####  Southern Hemisphere - Cloudiness (%) vs. Latitude Linear Regression"
   ]
  },
  {
   "cell_type": "code",
   "execution_count": 20,
   "metadata": {},
   "outputs": [
    {
     "name": "stdout",
     "output_type": "stream",
     "text": [
      "The r-squared is: -0.05061442178084439\n"
     ]
    },
    {
     "data": {
      "image/png": "[encoded data removed]",
      "text/plain": [
       "<Figure size 432x288 with 1 Axes>"
      ]
     },
     "metadata": {
      "needs_background": "light"
     },
     "output_type": "display_data"
    },
    {
     "data": {
      "text/plain": [
       "<Figure size 432x288 with 0 Axes>"
      ]
     },
     "metadata": {},
     "output_type": "display_data"
    }
   ],
   "source": [
    "x_values = southlat_df[\"Latitude\"]\n",
    "y_values = southlat_df[\"Cloudiness\"]\n",
    "plot_linear_regression(x_values,y_values,'Cloudiness',(6,30))\n",
    "\n",
    "plt.savefig('southerncloudlat')\n"
   ]
  },
  {
   "cell_type": "markdown",
   "metadata": {},
   "source": [
    "### Wind Speed (m/s) vs. Latitude Linear Regression"
   ]
  },
  {
   "cell_type": "markdown",
   "metadata": {},
   "source": [
    "####  Northern Hemisphere - Wind Speed (mph) vs. Latitude Linear Regression"
   ]
  },
  {
   "cell_type": "code",
   "execution_count": 21,
   "metadata": {},
   "outputs": [
    {
     "name": "stdout",
     "output_type": "stream",
     "text": [
      "The r-squared is: 0.021966333851045322\n"
     ]
    },
    {
     "data": {
      "image/png": "[encoded data removed]",
      "text/plain": [
       "<Figure size 432x288 with 1 Axes>"
      ]
     },
     "metadata": {
      "needs_background": "light"
     },
     "output_type": "display_data"
    },
    {
     "data": {
      "text/plain": [
       "<Figure size 432x288 with 0 Axes>"
      ]
     },
     "metadata": {},
     "output_type": "display_data"
    }
   ],
   "source": [
    "x_values = northlat_df[\"Latitude\"]\n",
    "y_values = northlat_df[\"Wind Speed\"]\n",
    "plot_linear_regression(x_values,y_values,'Wind Speed',(6,30))\n",
    "\n",
    "plt.savefig('northernwindlat')\n"
   ]
  },
  {
   "cell_type": "markdown",
   "metadata": {},
   "source": [
    "####  Southern Hemisphere - Wind Speed (mph) vs. Latitude Linear Regression"
   ]
  },
  {
   "cell_type": "code",
   "execution_count": 22,
   "metadata": {},
   "outputs": [
    {
     "name": "stdout",
     "output_type": "stream",
     "text": [
      "The r-squared is: -0.184204921206676\n"
     ]
    },
    {
     "data": {
      "image/png": "[encoded data removed]",
      "text/plain": [
       "<Figure size 432x288 with 1 Axes>"
      ]
     },
     "metadata": {
      "needs_background": "light"
     },
     "output_type": "display_data"
    },
    {
     "name": "stdout",
     "output_type": "stream",
     "text": [
      "The low r values indicate that there is no real relationship between wind speed and latitude. The difference between the hemispheres doesn't seem to be significant enough to comment upon.\n"
     ]
    },
    {
     "data": {
      "text/plain": [
       "<Figure size 432x288 with 0 Axes>"
      ]
     },
     "metadata": {},
     "output_type": "display_data"
    }
   ],
   "source": [
    "x_values = southlat_df[\"Latitude\"]\n",
    "y_values = southlat_df[\"Wind Speed\"]\n",
    "plot_linear_regression(x_values,y_values,'Wind Speed',(6,30))\n",
    "\n",
    "plt.savefig('southernwindlat')\n",
    "\n",
    "print(\"The low r values indicate that there is no real relationship between wind speed and latitude. The difference between the hemispheres doesn't seem to be significant enough to comment upon.\")\n"
   ]
  },
  {
   "cell_type": "code",
   "execution_count": null,
   "metadata": {},
   "outputs": [],
   "source": []
  }
 ],
 "metadata": {
  "anaconda-cloud": {},
  "kernel_info": {
   "name": "python3"
  },
  "kernelspec": {
   "display_name": "Python 3 (ipykernel)",
   "language": "python",
   "name": "python3"
  },
  "language_info": {
   "codemirror_mode": {
    "name": "ipython",
    "version": 3
   },
   "file_extension": ".py",
   "mimetype": "text/x-python",
   "name": "python",
   "nbconvert_exporter": "python",
   "pygments_lexer": "ipython3",
   "version": "3.9.12"
  },
  "latex_envs": {
   "LaTeX_envs_menu_present": true,
   "autoclose": false,
   "autocomplete": true,
   "bibliofile": "biblio.bib",
   "cite_by": "apalike",
   "current_citInitial": 1,
   "eqLabelWithNumbers": true,
   "eqNumInitial": 1,
   "hotkeys": {
    "equation": "Ctrl-E",
    "itemize": "Ctrl-I"
   },
   "labels_anchors": false,
   "latex_user_defs": false,
   "report_style_numbering": false,
   "user_envs_cfg": false
  },
  "nteract": {
   "version": "0.12.3"
  }
 },
 "nbformat": 4,
 "nbformat_minor": 2
}
