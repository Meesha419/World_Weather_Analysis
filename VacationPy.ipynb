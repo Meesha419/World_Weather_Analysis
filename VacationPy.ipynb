{
 "cells": [
  {
   "cell_type": "markdown",
   "metadata": {},
   "source": [
    "# VacationPy\n",
    "----\n",
    "\n",
    "#### Note\n",
    "* Keep an eye on your API usage. Use https://developers.google.com/maps/reporting/gmp-reporting as reference for how to monitor your usage and billing.\n",
    "\n",
    "* Instructions have been included for each segment. You do not have to follow them exactly, but they are included to help you think through the steps."
   ]
  },
  {
   "cell_type": "code",
   "execution_count": 1,
   "metadata": {},
   "outputs": [],
   "source": [
    "# Dependencies and Setup\n",
    "import matplotlib.pyplot as plt\n",
    "import pandas as pd\n",
    "import numpy as np\n",
    "import requests\n",
    "import gmaps\n",
    "import os\n",
    "import json\n",
    "\n",
    "# Import API key\n",
    "from api_keys import g_key"
   ]
  },
  {
   "cell_type": "markdown",
   "metadata": {},
   "source": [
    "### Store Part I results into DataFrame\n",
    "* Load the csv exported in Part I to a DataFrame"
   ]
  },
  {
   "cell_type": "code",
   "execution_count": 2,
   "metadata": {},
   "outputs": [
    {
     "data": {
      "text/html": [
       "<div>\n",
       "<style scoped>\n",
       "    .dataframe tbody tr th:only-of-type {\n",
       "        vertical-align: middle;\n",
       "    }\n",
       "\n",
       "    .dataframe tbody tr th {\n",
       "        vertical-align: top;\n",
       "    }\n",
       "\n",
       "    .dataframe thead th {\n",
       "        text-align: right;\n",
       "    }\n",
       "</style>\n",
       "<table border=\"1\" class=\"dataframe\">\n",
       "  <thead>\n",
       "    <tr style=\"text-align: right;\">\n",
       "      <th></th>\n",
       "      <th>Unnamed: 0</th>\n",
       "      <th>City</th>\n",
       "      <th>Latitude</th>\n",
       "      <th>Longitude</th>\n",
       "      <th>Max Temp</th>\n",
       "      <th>Humidity</th>\n",
       "      <th>Cloudiness</th>\n",
       "      <th>Wind Speed</th>\n",
       "      <th>Country</th>\n",
       "      <th>Date</th>\n",
       "    </tr>\n",
       "  </thead>\n",
       "  <tbody>\n",
       "    <tr>\n",
       "      <th>0</th>\n",
       "      <td>0</td>\n",
       "      <td>San Luis</td>\n",
       "      <td>-33.2950</td>\n",
       "      <td>-66.3356</td>\n",
       "      <td>57.83</td>\n",
       "      <td>26</td>\n",
       "      <td>9</td>\n",
       "      <td>17.87</td>\n",
       "      <td>AR</td>\n",
       "      <td>1663232400</td>\n",
       "    </tr>\n",
       "    <tr>\n",
       "      <th>1</th>\n",
       "      <td>1</td>\n",
       "      <td>Souillac</td>\n",
       "      <td>-20.5167</td>\n",
       "      <td>57.5167</td>\n",
       "      <td>76.44</td>\n",
       "      <td>62</td>\n",
       "      <td>15</td>\n",
       "      <td>17.60</td>\n",
       "      <td>MU</td>\n",
       "      <td>1663232400</td>\n",
       "    </tr>\n",
       "    <tr>\n",
       "      <th>2</th>\n",
       "      <td>2</td>\n",
       "      <td>Prabumulih</td>\n",
       "      <td>-3.4500</td>\n",
       "      <td>104.2500</td>\n",
       "      <td>90.09</td>\n",
       "      <td>48</td>\n",
       "      <td>39</td>\n",
       "      <td>3.18</td>\n",
       "      <td>ID</td>\n",
       "      <td>1663232400</td>\n",
       "    </tr>\n",
       "    <tr>\n",
       "      <th>3</th>\n",
       "      <td>3</td>\n",
       "      <td>Broome</td>\n",
       "      <td>42.2506</td>\n",
       "      <td>-75.8330</td>\n",
       "      <td>53.40</td>\n",
       "      <td>88</td>\n",
       "      <td>28</td>\n",
       "      <td>4.41</td>\n",
       "      <td>US</td>\n",
       "      <td>1663232400</td>\n",
       "    </tr>\n",
       "    <tr>\n",
       "      <th>4</th>\n",
       "      <td>4</td>\n",
       "      <td>Busselton</td>\n",
       "      <td>-33.6500</td>\n",
       "      <td>115.3333</td>\n",
       "      <td>60.64</td>\n",
       "      <td>68</td>\n",
       "      <td>62</td>\n",
       "      <td>14.99</td>\n",
       "      <td>AU</td>\n",
       "      <td>1663232400</td>\n",
       "    </tr>\n",
       "  </tbody>\n",
       "</table>\n",
       "</div>"
      ],
      "text/plain": [
       "   Unnamed: 0        City  Latitude  Longitude  Max Temp  Humidity  \\\n",
       "0           0    San Luis  -33.2950   -66.3356     57.83        26   \n",
       "1           1    Souillac  -20.5167    57.5167     76.44        62   \n",
       "2           2  Prabumulih   -3.4500   104.2500     90.09        48   \n",
       "3           3      Broome   42.2506   -75.8330     53.40        88   \n",
       "4           4   Busselton  -33.6500   115.3333     60.64        68   \n",
       "\n",
       "   Cloudiness  Wind Speed Country        Date  \n",
       "0           9       17.87      AR  1663232400  \n",
       "1          15       17.60      MU  1663232400  \n",
       "2          39        3.18      ID  1663232400  \n",
       "3          28        4.41      US  1663232400  \n",
       "4          62       14.99      AU  1663232400  "
      ]
     },
     "execution_count": 2,
     "metadata": {},
     "output_type": "execute_result"
    }
   ],
   "source": [
    "\n",
    "weather_metadata = (\"../output_data/my_weather_data.csv\")\n",
    "\n",
    "# Read the weather data and the study results\n",
    "my_weather_data = pd.read_csv(weather_metadata)\n",
    "\n",
    "# Combine the data into a single dataset\n",
    "weather_df = pd.DataFrame(my_weather_data)\n",
    "weather_df.head()\n"
   ]
  },
  {
   "cell_type": "markdown",
   "metadata": {},
   "source": [
    "### Humidity Heatmap\n",
    "* Configure gmaps.\n",
    "* Use the Lat and Lng as locations and Humidity as the weight.\n",
    "* Add Heatmap layer to map."
   ]
  },
  {
   "cell_type": "code",
   "execution_count": 3,
   "metadata": {},
   "outputs": [],
   "source": [
    "#Configure gmaps.\n",
    "gmaps.configure(api_key=g_key)\n",
    "\n"
   ]
  },
  {
   "cell_type": "code",
   "execution_count": 16,
   "metadata": {},
   "outputs": [
    {
     "data": {
      "application/vnd.jupyter.widget-view+json": {
       "model_id": "c60cb7c81ae249c2a7acbd8160a13536",
       "version_major": 2,
       "version_minor": 0
      },
      "text/plain": [
       "Figure(layout=FigureLayout(height='420px'))"
      ]
     },
     "metadata": {},
     "output_type": "display_data"
    },
    {
     "data": {
      "text/plain": [
       "<Figure size 432x288 with 0 Axes>"
      ]
     },
     "metadata": {},
     "output_type": "display_data"
    }
   ],
   "source": [
    "locations = weather_df[[\"Latitude\", \"Longitude\"]].astype(float)\n",
    "\n",
    "hum_rate = weather_df[\"Humidity\"].astype(float)\n",
    "\n",
    "fig = gmaps.figure(center=(48.0, 0.0), zoom_level=4)\n",
    "\n",
    "marker_layer = gmaps.marker_layer(locations, #weights=hum_rate, dissipating=False \n",
    "                                 )\n",
    "\n",
    "fig.add_layer(marker_layer)\n",
    "\n",
    "plt.savefig(\"vacationheatmap.png\")\n",
    "fig\n"
   ]
  },
  {
   "cell_type": "code",
   "execution_count": null,
   "metadata": {},
   "outputs": [],
   "source": []
  },
  {
   "cell_type": "markdown",
   "metadata": {},
   "source": [
    "### Create new DataFrame fitting weather criteria\n",
    "* Narrow down the cities to fit weather conditions.\n",
    "* Drop any rows will null values."
   ]
  },
  {
   "cell_type": "code",
   "execution_count": 30,
   "metadata": {},
   "outputs": [
    {
     "data": {
      "text/html": [
       "<div>\n",
       "<style scoped>\n",
       "    .dataframe tbody tr th:only-of-type {\n",
       "        vertical-align: middle;\n",
       "    }\n",
       "\n",
       "    .dataframe tbody tr th {\n",
       "        vertical-align: top;\n",
       "    }\n",
       "\n",
       "    .dataframe thead th {\n",
       "        text-align: right;\n",
       "    }\n",
       "</style>\n",
       "<table border=\"1\" class=\"dataframe\">\n",
       "  <thead>\n",
       "    <tr style=\"text-align: right;\">\n",
       "      <th></th>\n",
       "      <th>Unnamed: 0</th>\n",
       "      <th>City</th>\n",
       "      <th>Latitude</th>\n",
       "      <th>Longitude</th>\n",
       "      <th>Max Temp</th>\n",
       "      <th>Humidity</th>\n",
       "      <th>Cloudiness</th>\n",
       "      <th>Wind Speed</th>\n",
       "      <th>Country</th>\n",
       "      <th>Date</th>\n",
       "    </tr>\n",
       "  </thead>\n",
       "  <tbody>\n",
       "    <tr>\n",
       "      <th>62</th>\n",
       "      <td>62</td>\n",
       "      <td>Kokstad</td>\n",
       "      <td>-30.5472</td>\n",
       "      <td>29.4241</td>\n",
       "      <td>79.79</td>\n",
       "      <td>30</td>\n",
       "      <td>0</td>\n",
       "      <td>7.00</td>\n",
       "      <td>ZA</td>\n",
       "      <td>1663232400</td>\n",
       "    </tr>\n",
       "    <tr>\n",
       "      <th>121</th>\n",
       "      <td>121</td>\n",
       "      <td>Springbok</td>\n",
       "      <td>-29.6643</td>\n",
       "      <td>17.8865</td>\n",
       "      <td>78.78</td>\n",
       "      <td>8</td>\n",
       "      <td>0</td>\n",
       "      <td>1.16</td>\n",
       "      <td>ZA</td>\n",
       "      <td>1663232400</td>\n",
       "    </tr>\n",
       "    <tr>\n",
       "      <th>180</th>\n",
       "      <td>180</td>\n",
       "      <td>Darnah</td>\n",
       "      <td>32.7670</td>\n",
       "      <td>22.6367</td>\n",
       "      <td>78.01</td>\n",
       "      <td>56</td>\n",
       "      <td>0</td>\n",
       "      <td>8.55</td>\n",
       "      <td>LY</td>\n",
       "      <td>1663232400</td>\n",
       "    </tr>\n",
       "    <tr>\n",
       "      <th>248</th>\n",
       "      <td>248</td>\n",
       "      <td>Yarqā</td>\n",
       "      <td>31.9785</td>\n",
       "      <td>35.6947</td>\n",
       "      <td>77.41</td>\n",
       "      <td>52</td>\n",
       "      <td>0</td>\n",
       "      <td>4.32</td>\n",
       "      <td>JO</td>\n",
       "      <td>1663232400</td>\n",
       "    </tr>\n",
       "    <tr>\n",
       "      <th>320</th>\n",
       "      <td>320</td>\n",
       "      <td>Piet Retief</td>\n",
       "      <td>-27.0071</td>\n",
       "      <td>30.8132</td>\n",
       "      <td>79.63</td>\n",
       "      <td>39</td>\n",
       "      <td>0</td>\n",
       "      <td>4.74</td>\n",
       "      <td>ZA</td>\n",
       "      <td>1663232400</td>\n",
       "    </tr>\n",
       "  </tbody>\n",
       "</table>\n",
       "</div>"
      ],
      "text/plain": [
       "     Unnamed: 0         City  Latitude  Longitude  Max Temp  Humidity  \\\n",
       "62           62      Kokstad  -30.5472    29.4241     79.79        30   \n",
       "121         121    Springbok  -29.6643    17.8865     78.78         8   \n",
       "180         180       Darnah   32.7670    22.6367     78.01        56   \n",
       "248         248        Yarqā   31.9785    35.6947     77.41        52   \n",
       "320         320  Piet Retief  -27.0071    30.8132     79.63        39   \n",
       "\n",
       "     Cloudiness  Wind Speed Country        Date  \n",
       "62            0        7.00      ZA  1663232400  \n",
       "121           0        1.16      ZA  1663232400  \n",
       "180           0        8.55      LY  1663232400  \n",
       "248           0        4.32      JO  1663232400  \n",
       "320           0        4.74      ZA  1663232400  "
      ]
     },
     "execution_count": 30,
     "metadata": {},
     "output_type": "execute_result"
    }
   ],
   "source": [
    "first = weather_df.loc[weather_df[\"Max Temp\"]<27,:]\n",
    "second = first.loc[weather_df[\"Max Temp\"]>21,:]\n",
    "second.head()\n",
    "\n",
    "#Wind speed less than 10 mph.\n",
    "third = second.loc[second[\"Wind Speed\"]<4.5,:]\n",
    "third\n",
    "\n",
    "#Zero cloudiness.\n",
    "fourth = third.loc[third[\"Cloudiness\"]==0,:]\n",
    "fourth.head()\n"
   ]
  },
  {
   "cell_type": "markdown",
   "metadata": {},
   "source": [
    "### Hotel Map\n",
    "* Store into variable named `hotel_df`.\n",
    "* Add a \"Hotel Name\" column to the DataFrame.\n",
    "* Set parameters to search for hotels with 5000 meters.\n",
    "* Hit the Google Places API for each city's coordinates.\n",
    "* Store the first Hotel result into the DataFrame.\n",
    "* Plot markers on top of the heatmap."
   ]
  },
  {
   "cell_type": "code",
   "execution_count": 31,
   "metadata": {},
   "outputs": [
    {
     "data": {
      "text/html": [
       "<div>\n",
       "<style scoped>\n",
       "    .dataframe tbody tr th:only-of-type {\n",
       "        vertical-align: middle;\n",
       "    }\n",
       "\n",
       "    .dataframe tbody tr th {\n",
       "        vertical-align: top;\n",
       "    }\n",
       "\n",
       "    .dataframe thead th {\n",
       "        text-align: right;\n",
       "    }\n",
       "</style>\n",
       "<table border=\"1\" class=\"dataframe\">\n",
       "  <thead>\n",
       "    <tr style=\"text-align: right;\">\n",
       "      <th></th>\n",
       "      <th>City</th>\n",
       "      <th>Country</th>\n",
       "      <th>Lat</th>\n",
       "      <th>Lng</th>\n",
       "      <th>Hotel Name</th>\n",
       "    </tr>\n",
       "  </thead>\n",
       "  <tbody>\n",
       "    <tr>\n",
       "      <th>62</th>\n",
       "      <td>Kokstad</td>\n",
       "      <td>ZA</td>\n",
       "      <td>-30.5472</td>\n",
       "      <td>29.4241</td>\n",
       "      <td></td>\n",
       "    </tr>\n",
       "    <tr>\n",
       "      <th>121</th>\n",
       "      <td>Springbok</td>\n",
       "      <td>ZA</td>\n",
       "      <td>-29.6643</td>\n",
       "      <td>17.8865</td>\n",
       "      <td></td>\n",
       "    </tr>\n",
       "    <tr>\n",
       "      <th>180</th>\n",
       "      <td>Darnah</td>\n",
       "      <td>LY</td>\n",
       "      <td>32.7670</td>\n",
       "      <td>22.6367</td>\n",
       "      <td></td>\n",
       "    </tr>\n",
       "    <tr>\n",
       "      <th>248</th>\n",
       "      <td>Yarqā</td>\n",
       "      <td>JO</td>\n",
       "      <td>31.9785</td>\n",
       "      <td>35.6947</td>\n",
       "      <td></td>\n",
       "    </tr>\n",
       "    <tr>\n",
       "      <th>320</th>\n",
       "      <td>Piet Retief</td>\n",
       "      <td>ZA</td>\n",
       "      <td>-27.0071</td>\n",
       "      <td>30.8132</td>\n",
       "      <td></td>\n",
       "    </tr>\n",
       "  </tbody>\n",
       "</table>\n",
       "</div>"
      ],
      "text/plain": [
       "            City Country      Lat      Lng Hotel Name\n",
       "62       Kokstad      ZA -30.5472  29.4241           \n",
       "121    Springbok      ZA -29.6643  17.8865           \n",
       "180       Darnah      LY  32.7670  22.6367           \n",
       "248        Yarqā      JO  31.9785  35.6947           \n",
       "320  Piet Retief      ZA -27.0071  30.8132           "
      ]
     },
     "execution_count": 31,
     "metadata": {},
     "output_type": "execute_result"
    }
   ],
   "source": [
    "hotel_df = pd.DataFrame()\n",
    "fifth = pd.DataFrame(fourth)\n",
    "hotel_df['City'] = fifth['City']\n",
    "hotel_df['Country'] = fifth['Country']\n",
    "hotel_df['Lat'] = fifth['Latitude']\n",
    "hotel_df['Lng'] = fifth['Longitude']\n",
    "hotel_df['Hotel Name'] = \"\"\n",
    "hotel_df.head()\n"
   ]
  },
  {
   "cell_type": "code",
   "execution_count": 19,
   "metadata": {},
   "outputs": [
    {
     "name": "stdout",
     "output_type": "stream",
     "text": [
      "Retrieving Results for Index 62: Kokstad.\n",
      "Closest hotel to Kokstad at -30.5472 , 29.4241 is Rocky Ridge Spur Steak Ranch.\n",
      "------------\n",
      "Retrieving Results for Index 121: Springbok.\n",
      "Closest hotel to Springbok at -29.6643 , 17.8865 is Desert Rose Guest House.\n",
      "------------\n",
      "Retrieving Results for Index 180: Darnah.\n",
      "Closest hotel to Darnah at 32.767 , 22.6367 is Al Banon for children clothes.\n",
      "------------\n",
      "Retrieving Results for Index 248: Yarqā.\n",
      "Closest hotel to Yarqā at 31.9785 , 35.6947 is بلايستيشن المهندس شاكر.\n",
      "------------\n",
      "Retrieving Results for Index 320: Piet Retief.\n",
      "Closest hotel to Piet Retief at -27.0071 , 30.8132 is RH Private Hospital Piet Retief.\n",
      "------------\n",
      "Retrieving Results for Index 386: Kalat.\n",
      "Closest hotel to Kalat at 29.0225 , 66.5916 is Agha super store.\n",
      "------------\n",
      "Retrieving Results for Index 409: Mhlambanyatsi.\n",
      "Closest hotel to Mhlambanyatsi at -26.45 , 31.0167 is Usuthu Golf Club.\n",
      "------------\n",
      "Retrieving Results for Index 499: Safi.\n",
      "Closest hotel to Safi at 32.2994 , -9.2372 is Hôtel Safir.\n",
      "------------\n"
     ]
    }
   ],
   "source": [
    "for index, row in hotel_df.iterrows():\n",
    "\n",
    "    # get restaurant type from df\n",
    "    latitude = row['Lat']\n",
    "    longitude = row['Lng']\n",
    "    city = row['City']\n",
    "    country = row['Country']\n",
    "\n",
    "    # assemble url and make API request\n",
    "    print(f\"Retrieving Results for Index {index}: {city}.\")\n",
    "    response = requests.get(f\"https://maps.googleapis.com/maps/api/place/textsearch/json?location={latitude},{longitude}&radius=5000&type=hotel&key={g_key}\").json()\n",
    "    \n",
    "    # extract results\n",
    "    results = response['results']\n",
    "    \n",
    "    try:\n",
    "        hotelname = response['results'][7]['name']\n",
    "        print(f\"Closest hotel to {city} at {latitude} , {longitude} is {hotelname}.\")\n",
    "        \n",
    "        hotel_df.loc[index, \"Hotel Name\"] = hotelname\n",
    "        \n",
    "    except (KeyError, IndexError):\n",
    "        print(\"Missing field/result... skipping.\")\n",
    "        \n",
    "    print(\"------------\")\n"
   ]
  },
  {
   "cell_type": "code",
   "execution_count": null,
   "metadata": {},
   "outputs": [],
   "source": [
    "# NOTE: Do not change any of the code in this cell\n",
    "\n",
    "# Using the template add the hotel marks to the heatmap\n",
    "info_box_template = \"\"\"\n",
    "<dl>\n",
    "<dt>Name</dt><dd>{Hotel Name}</dd>\n",
    "<dt>City</dt><dd>{City}</dd>\n",
    "<dt>Country</dt><dd>{Country}</dd>\n",
    "</dl>\n",
    "\"\"\"\n",
    "# Store the DataFrame Row\n",
    "# NOTE: be sure to update with your DataFrame name\n",
    "hotel_info = [info_box_template.format(**row) for index, row in hotel_df.iterrows()]\n",
    "locations = hotel_df[[\"Lat\", \"Lng\"]]"
   ]
  },
  {
   "cell_type": "code",
   "execution_count": 27,
   "metadata": {},
   "outputs": [
    {
     "data": {
      "application/vnd.jupyter.widget-view+json": {
       "model_id": "1245a828dde649a081f775c68788e76b",
       "version_major": 2,
       "version_minor": 0
      },
      "text/plain": [
       "Figure(layout=FigureLayout(height='420px'))"
      ]
     },
     "metadata": {},
     "output_type": "display_data"
    },
    {
     "data": {
      "text/plain": [
       "<Figure size 432x288 with 0 Axes>"
      ]
     },
     "metadata": {},
     "output_type": "display_data"
    }
   ],
   "source": [
    "fig = gmaps.figure(center=(48.0, 0.0), zoom_level=3)\n",
    "\n",
    "marker_layer = gmaps.marker_layer(locations, #weights=hum_rate, \n",
    "                                 #dissipating=False, max_intensity=100,\n",
    "                                # point_radius = 1, opacity=1\n",
    "                               )\n",
    "#marker_layer = gmaps.marker_layer(locations2, #hover_text='', label='', info_box_content=hotel_info\n",
    "                                 \n",
    "\n",
    "fig.add_layer(marker_layer)\n",
    "fig.add_layer(marker_layer)\n",
    "plt.savefig(\"vacationheatmapwithhotels.png\")\n",
    "\n",
    "fig\n"
   ]
  },
  {
   "cell_type": "code",
   "execution_count": null,
   "metadata": {},
   "outputs": [],
   "source": [
    "# Add marker layer ontop of heat map\n",
    "\n",
    "\n",
    "# Display figure\n"
   ]
  },
  {
   "cell_type": "code",
   "execution_count": null,
   "metadata": {},
   "outputs": [],
   "source": []
  }
 ],
 "metadata": {
  "kernelspec": {
   "display_name": "Python 3 (ipykernel)",
   "language": "python",
   "name": "python3"
  },
  "language_info": {
   "codemirror_mode": {
    "name": "ipython",
    "version": 3
   },
   "file_extension": ".py",
   "mimetype": "text/x-python",
   "name": "python",
   "nbconvert_exporter": "python",
   "pygments_lexer": "ipython3",
   "version": "3.9.12"
  },
  "latex_envs": {
   "LaTeX_envs_menu_present": true,
   "autoclose": false,
   "autocomplete": true,
   "bibliofile": "biblio.bib",
   "cite_by": "apalike",
   "current_citInitial": 1,
   "eqLabelWithNumbers": true,
   "eqNumInitial": 1,
   "hotkeys": {
    "equation": "Ctrl-E",
    "itemize": "Ctrl-I"
   },
   "labels_anchors": false,
   "latex_user_defs": false,
   "report_style_numbering": false,
   "user_envs_cfg": false
  }
 },
 "nbformat": 4,
 "nbformat_minor": 4
}
